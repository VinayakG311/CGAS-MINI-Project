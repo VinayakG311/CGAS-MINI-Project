{
 "cells": [
  {
   "cell_type": "code",
   "execution_count": 1,
   "metadata": {
    "id": "Gu2_EaHVlyPs"
   },
   "outputs": [],
   "source": [
    "import numpy as np\n",
    "import pandas as pd\n",
    "import matplotlib.pyplot as plt\n",
    "import seaborn as sns\n",
    "from wordcloud import WordCloud\n",
    "import re\n",
    "import nltk\n",
    "from nltk.corpus import stopwords\n",
    "from nltk.tokenize import word_tokenize\n",
    "from nltk.stem import WordNetLemmatizer\n",
    "from sklearn.preprocessing import LabelEncoder\n",
    "from sklearn.feature_extraction.text import TfidfVectorizer\n",
    "from gensim.models import Word2Vec\n",
    "from sklearn.model_selection import train_test_split\n",
    "from sklearn.svm import SVC\n",
    "from sklearn.metrics import accuracy_score\n",
    "from xgboost import XGBClassifier\n",
    "from imblearn.over_sampling import ADASYN,SMOTE\n",
    "from sklearn.decomposition import PCA\n",
    "from sklearn.manifold import TSNE\n",
    "from sklearn.pipeline import make_pipeline\n",
    "from tensorflow.keras.models import Sequential\n",
    "from tensorflow.keras.layers import Dense,Dropout\n",
    "from sklearn.model_selection import KFold\n",
    "import pickle\n",
    "import spacy\n",
    "from sklearn.ensemble import RandomForestClassifier\n",
    "from sklearn.model_selection import GridSearchCV,cross_val_score\n",
    "from sklearn.neural_network import MLPClassifier\n",
    "from sklearn.tree import DecisionTreeClassifier\n",
    "from sklearn.naive_bayes import GaussianNB\n",
    "from sklearn.metrics import accuracy_score, roc_auc_score\n",
    "from sklearn.ensemble import VotingClassifier\n",
    "from sklearn.linear_model import LogisticRegression\n",
    "from sklearn.neighbors import KNeighborsClassifier\n",
    "from sklearn.linear_model import Perceptron\n",
    "from sklearn.tree import DecisionTreeClassifier\n",
    "from sklearn.naive_bayes import GaussianNB\n",
    "from sklearn.metrics import classification_report"
   ]
  },
  {
   "cell_type": "code",
   "execution_count": 2,
   "metadata": {
    "scrolled": true
   },
   "outputs": [
    {
     "name": "stderr",
     "output_type": "stream",
     "text": [
      "[nltk_data] Downloading package stopwords to\n",
      "[nltk_data]     /Users/vinayakarora/nltk_data...\n",
      "[nltk_data]   Package stopwords is already up-to-date!\n",
      "[nltk_data] Downloading package wordnet to\n",
      "[nltk_data]     /Users/vinayakarora/nltk_data...\n",
      "[nltk_data]   Package wordnet is already up-to-date!\n",
      "[nltk_data] Downloading package punkt_tab to\n",
      "[nltk_data]     /Users/vinayakarora/nltk_data...\n",
      "[nltk_data]   Package punkt_tab is already up-to-date!\n"
     ]
    },
    {
     "data": {
      "text/plain": [
       "True"
      ]
     },
     "execution_count": 2,
     "metadata": {},
     "output_type": "execute_result"
    }
   ],
   "source": [
    "nltk.download('stopwords')\n",
    "nltk.download('wordnet')\n",
    "nltk.download('punkt_tab')"
   ]
  },
  {
   "cell_type": "code",
   "execution_count": 3,
   "metadata": {
    "colab": {
     "base_uri": "https://localhost:8080/",
     "height": 720
    },
    "id": "SYv6pJ-Jl2wS",
    "outputId": "d770d0b8-3a7c-4ea4-ef2c-197cb56629ab"
   },
   "outputs": [
    {
     "data": {
      "text/html": [
       "<div>\n",
       "<style scoped>\n",
       "    .dataframe tbody tr th:only-of-type {\n",
       "        vertical-align: middle;\n",
       "    }\n",
       "\n",
       "    .dataframe tbody tr th {\n",
       "        vertical-align: top;\n",
       "    }\n",
       "\n",
       "    .dataframe thead th {\n",
       "        text-align: right;\n",
       "    }\n",
       "</style>\n",
       "<table border=\"1\" class=\"dataframe\">\n",
       "  <thead>\n",
       "    <tr style=\"text-align: right;\">\n",
       "      <th></th>\n",
       "      <th>id</th>\n",
       "      <th>cuisine</th>\n",
       "      <th>ingredients</th>\n",
       "    </tr>\n",
       "  </thead>\n",
       "  <tbody>\n",
       "    <tr>\n",
       "      <th>0</th>\n",
       "      <td>10259</td>\n",
       "      <td>greek</td>\n",
       "      <td>[romaine lettuce, black olives, grape tomatoes...</td>\n",
       "    </tr>\n",
       "    <tr>\n",
       "      <th>1</th>\n",
       "      <td>25693</td>\n",
       "      <td>southern_us</td>\n",
       "      <td>[plain flour, ground pepper, salt, tomatoes, g...</td>\n",
       "    </tr>\n",
       "    <tr>\n",
       "      <th>2</th>\n",
       "      <td>20130</td>\n",
       "      <td>filipino</td>\n",
       "      <td>[eggs, pepper, salt, mayonaise, cooking oil, g...</td>\n",
       "    </tr>\n",
       "    <tr>\n",
       "      <th>3</th>\n",
       "      <td>22213</td>\n",
       "      <td>indian</td>\n",
       "      <td>[water, vegetable oil, wheat, salt]</td>\n",
       "    </tr>\n",
       "    <tr>\n",
       "      <th>4</th>\n",
       "      <td>13162</td>\n",
       "      <td>indian</td>\n",
       "      <td>[black pepper, shallots, cornflour, cayenne pe...</td>\n",
       "    </tr>\n",
       "    <tr>\n",
       "      <th>5</th>\n",
       "      <td>6602</td>\n",
       "      <td>jamaican</td>\n",
       "      <td>[plain flour, sugar, butter, eggs, fresh ginge...</td>\n",
       "    </tr>\n",
       "    <tr>\n",
       "      <th>6</th>\n",
       "      <td>42779</td>\n",
       "      <td>spanish</td>\n",
       "      <td>[olive oil, salt, medium shrimp, pepper, garli...</td>\n",
       "    </tr>\n",
       "    <tr>\n",
       "      <th>7</th>\n",
       "      <td>3735</td>\n",
       "      <td>italian</td>\n",
       "      <td>[sugar, pistachio nuts, white almond bark, flo...</td>\n",
       "    </tr>\n",
       "    <tr>\n",
       "      <th>8</th>\n",
       "      <td>16903</td>\n",
       "      <td>mexican</td>\n",
       "      <td>[olive oil, purple onion, fresh pineapple, por...</td>\n",
       "    </tr>\n",
       "    <tr>\n",
       "      <th>9</th>\n",
       "      <td>12734</td>\n",
       "      <td>italian</td>\n",
       "      <td>[chopped tomatoes, fresh basil, garlic, extra-...</td>\n",
       "    </tr>\n",
       "    <tr>\n",
       "      <th>10</th>\n",
       "      <td>5875</td>\n",
       "      <td>italian</td>\n",
       "      <td>[pimentos, sweet pepper, dried oregano, olive ...</td>\n",
       "    </tr>\n",
       "    <tr>\n",
       "      <th>11</th>\n",
       "      <td>45887</td>\n",
       "      <td>chinese</td>\n",
       "      <td>[low sodium soy sauce, fresh ginger, dry musta...</td>\n",
       "    </tr>\n",
       "    <tr>\n",
       "      <th>12</th>\n",
       "      <td>2698</td>\n",
       "      <td>italian</td>\n",
       "      <td>[Italian parsley leaves, walnuts, hot red pepp...</td>\n",
       "    </tr>\n",
       "    <tr>\n",
       "      <th>13</th>\n",
       "      <td>41995</td>\n",
       "      <td>mexican</td>\n",
       "      <td>[ground cinnamon, fresh cilantro, chili powder...</td>\n",
       "    </tr>\n",
       "    <tr>\n",
       "      <th>14</th>\n",
       "      <td>31908</td>\n",
       "      <td>italian</td>\n",
       "      <td>[fresh parmesan cheese, butter, all-purpose fl...</td>\n",
       "    </tr>\n",
       "    <tr>\n",
       "      <th>15</th>\n",
       "      <td>24717</td>\n",
       "      <td>indian</td>\n",
       "      <td>[tumeric, vegetable stock, tomatoes, garam mas...</td>\n",
       "    </tr>\n",
       "    <tr>\n",
       "      <th>16</th>\n",
       "      <td>34466</td>\n",
       "      <td>british</td>\n",
       "      <td>[greek yogurt, lemon curd, confectioners sugar...</td>\n",
       "    </tr>\n",
       "    <tr>\n",
       "      <th>17</th>\n",
       "      <td>1420</td>\n",
       "      <td>italian</td>\n",
       "      <td>[italian seasoning, broiler-fryer chicken, may...</td>\n",
       "    </tr>\n",
       "    <tr>\n",
       "      <th>18</th>\n",
       "      <td>2941</td>\n",
       "      <td>thai</td>\n",
       "      <td>[sugar, hot chili, asian fish sauce, lime juice]</td>\n",
       "    </tr>\n",
       "    <tr>\n",
       "      <th>19</th>\n",
       "      <td>8152</td>\n",
       "      <td>vietnamese</td>\n",
       "      <td>[soy sauce, vegetable oil, red bell pepper, ch...</td>\n",
       "    </tr>\n",
       "  </tbody>\n",
       "</table>\n",
       "</div>"
      ],
      "text/plain": [
       "       id      cuisine                                        ingredients\n",
       "0   10259        greek  [romaine lettuce, black olives, grape tomatoes...\n",
       "1   25693  southern_us  [plain flour, ground pepper, salt, tomatoes, g...\n",
       "2   20130     filipino  [eggs, pepper, salt, mayonaise, cooking oil, g...\n",
       "3   22213       indian                [water, vegetable oil, wheat, salt]\n",
       "4   13162       indian  [black pepper, shallots, cornflour, cayenne pe...\n",
       "5    6602     jamaican  [plain flour, sugar, butter, eggs, fresh ginge...\n",
       "6   42779      spanish  [olive oil, salt, medium shrimp, pepper, garli...\n",
       "7    3735      italian  [sugar, pistachio nuts, white almond bark, flo...\n",
       "8   16903      mexican  [olive oil, purple onion, fresh pineapple, por...\n",
       "9   12734      italian  [chopped tomatoes, fresh basil, garlic, extra-...\n",
       "10   5875      italian  [pimentos, sweet pepper, dried oregano, olive ...\n",
       "11  45887      chinese  [low sodium soy sauce, fresh ginger, dry musta...\n",
       "12   2698      italian  [Italian parsley leaves, walnuts, hot red pepp...\n",
       "13  41995      mexican  [ground cinnamon, fresh cilantro, chili powder...\n",
       "14  31908      italian  [fresh parmesan cheese, butter, all-purpose fl...\n",
       "15  24717       indian  [tumeric, vegetable stock, tomatoes, garam mas...\n",
       "16  34466      british  [greek yogurt, lemon curd, confectioners sugar...\n",
       "17   1420      italian  [italian seasoning, broiler-fryer chicken, may...\n",
       "18   2941         thai   [sugar, hot chili, asian fish sauce, lime juice]\n",
       "19   8152   vietnamese  [soy sauce, vegetable oil, red bell pepper, ch..."
      ]
     },
     "execution_count": 3,
     "metadata": {},
     "output_type": "execute_result"
    }
   ],
   "source": [
    "df_train = pd.read_json(\"Dataset/train.json\")\n",
    "df_test = pd.read_json(\"Dataset/test.json\")\n",
    "# df_train = pd.read_json(\"train.json\")\n",
    "# df_test = pd.read_json(\"test.json\")\n",
    "\n",
    "\n",
    "df_train.head(20)"
   ]
  },
  {
   "cell_type": "markdown",
   "metadata": {
    "id": "0nHorFeOmLCQ"
   },
   "source": [
    "# Preprocessing"
   ]
  },
  {
   "cell_type": "code",
   "execution_count": 4,
   "metadata": {
    "colab": {
     "base_uri": "https://localhost:8080/",
     "height": 297
    },
    "id": "fDPgoWU8mkMq",
    "outputId": "508a6345-caa6-4664-938a-51d02e7504e3"
   },
   "outputs": [
    {
     "data": {
      "text/html": [
       "<div>\n",
       "<style scoped>\n",
       "    .dataframe tbody tr th:only-of-type {\n",
       "        vertical-align: middle;\n",
       "    }\n",
       "\n",
       "    .dataframe tbody tr th {\n",
       "        vertical-align: top;\n",
       "    }\n",
       "\n",
       "    .dataframe thead th {\n",
       "        text-align: right;\n",
       "    }\n",
       "</style>\n",
       "<table border=\"1\" class=\"dataframe\">\n",
       "  <thead>\n",
       "    <tr style=\"text-align: right;\">\n",
       "      <th></th>\n",
       "      <th>id</th>\n",
       "    </tr>\n",
       "  </thead>\n",
       "  <tbody>\n",
       "    <tr>\n",
       "      <th>count</th>\n",
       "      <td>39774.000000</td>\n",
       "    </tr>\n",
       "    <tr>\n",
       "      <th>mean</th>\n",
       "      <td>24849.536959</td>\n",
       "    </tr>\n",
       "    <tr>\n",
       "      <th>std</th>\n",
       "      <td>14360.035505</td>\n",
       "    </tr>\n",
       "    <tr>\n",
       "      <th>min</th>\n",
       "      <td>0.000000</td>\n",
       "    </tr>\n",
       "    <tr>\n",
       "      <th>25%</th>\n",
       "      <td>12398.250000</td>\n",
       "    </tr>\n",
       "    <tr>\n",
       "      <th>50%</th>\n",
       "      <td>24887.000000</td>\n",
       "    </tr>\n",
       "    <tr>\n",
       "      <th>75%</th>\n",
       "      <td>37328.500000</td>\n",
       "    </tr>\n",
       "    <tr>\n",
       "      <th>max</th>\n",
       "      <td>49717.000000</td>\n",
       "    </tr>\n",
       "  </tbody>\n",
       "</table>\n",
       "</div>"
      ],
      "text/plain": [
       "                 id\n",
       "count  39774.000000\n",
       "mean   24849.536959\n",
       "std    14360.035505\n",
       "min        0.000000\n",
       "25%    12398.250000\n",
       "50%    24887.000000\n",
       "75%    37328.500000\n",
       "max    49717.000000"
      ]
     },
     "execution_count": 4,
     "metadata": {},
     "output_type": "execute_result"
    }
   ],
   "source": [
    "df_train.describe()"
   ]
  },
  {
   "cell_type": "code",
   "execution_count": 5,
   "metadata": {
    "colab": {
     "base_uri": "https://localhost:8080/",
     "height": 297
    },
    "id": "HQhTybrlmnmu",
    "outputId": "db250183-811e-4fe3-af68-e951deb97dd3"
   },
   "outputs": [
    {
     "data": {
      "text/html": [
       "<div>\n",
       "<style scoped>\n",
       "    .dataframe tbody tr th:only-of-type {\n",
       "        vertical-align: middle;\n",
       "    }\n",
       "\n",
       "    .dataframe tbody tr th {\n",
       "        vertical-align: top;\n",
       "    }\n",
       "\n",
       "    .dataframe thead th {\n",
       "        text-align: right;\n",
       "    }\n",
       "</style>\n",
       "<table border=\"1\" class=\"dataframe\">\n",
       "  <thead>\n",
       "    <tr style=\"text-align: right;\">\n",
       "      <th></th>\n",
       "      <th>id</th>\n",
       "    </tr>\n",
       "  </thead>\n",
       "  <tbody>\n",
       "    <tr>\n",
       "      <th>count</th>\n",
       "      <td>9944.000000</td>\n",
       "    </tr>\n",
       "    <tr>\n",
       "      <th>mean</th>\n",
       "      <td>24894.350362</td>\n",
       "    </tr>\n",
       "    <tr>\n",
       "      <th>std</th>\n",
       "      <td>14322.958061</td>\n",
       "    </tr>\n",
       "    <tr>\n",
       "      <th>min</th>\n",
       "      <td>5.000000</td>\n",
       "    </tr>\n",
       "    <tr>\n",
       "      <th>25%</th>\n",
       "      <td>12541.000000</td>\n",
       "    </tr>\n",
       "    <tr>\n",
       "      <th>50%</th>\n",
       "      <td>24731.500000</td>\n",
       "    </tr>\n",
       "    <tr>\n",
       "      <th>75%</th>\n",
       "      <td>37113.250000</td>\n",
       "    </tr>\n",
       "    <tr>\n",
       "      <th>max</th>\n",
       "      <td>49715.000000</td>\n",
       "    </tr>\n",
       "  </tbody>\n",
       "</table>\n",
       "</div>"
      ],
      "text/plain": [
       "                 id\n",
       "count   9944.000000\n",
       "mean   24894.350362\n",
       "std    14322.958061\n",
       "min        5.000000\n",
       "25%    12541.000000\n",
       "50%    24731.500000\n",
       "75%    37113.250000\n",
       "max    49715.000000"
      ]
     },
     "execution_count": 5,
     "metadata": {},
     "output_type": "execute_result"
    }
   ],
   "source": [
    "df_test.describe()"
   ]
  },
  {
   "cell_type": "code",
   "execution_count": 6,
   "metadata": {
    "colab": {
     "base_uri": "https://localhost:8080/",
     "height": 173
    },
    "id": "BjpJNJ-Qmp5g",
    "outputId": "fd0959c0-e479-410a-b8ef-c6daf4740ba0"
   },
   "outputs": [
    {
     "data": {
      "text/html": [
       "<div>\n",
       "<style scoped>\n",
       "    .dataframe tbody tr th:only-of-type {\n",
       "        vertical-align: middle;\n",
       "    }\n",
       "\n",
       "    .dataframe tbody tr th {\n",
       "        vertical-align: top;\n",
       "    }\n",
       "\n",
       "    .dataframe thead th {\n",
       "        text-align: right;\n",
       "    }\n",
       "</style>\n",
       "<table border=\"1\" class=\"dataframe\">\n",
       "  <thead>\n",
       "    <tr style=\"text-align: right;\">\n",
       "      <th></th>\n",
       "      <th>id</th>\n",
       "      <th>cuisine</th>\n",
       "      <th>ingredients</th>\n",
       "    </tr>\n",
       "  </thead>\n",
       "  <tbody>\n",
       "    <tr>\n",
       "      <th>count</th>\n",
       "      <td>39774</td>\n",
       "      <td>39774</td>\n",
       "      <td>39774</td>\n",
       "    </tr>\n",
       "    <tr>\n",
       "      <th>unique</th>\n",
       "      <td>1</td>\n",
       "      <td>1</td>\n",
       "      <td>1</td>\n",
       "    </tr>\n",
       "    <tr>\n",
       "      <th>top</th>\n",
       "      <td>False</td>\n",
       "      <td>False</td>\n",
       "      <td>False</td>\n",
       "    </tr>\n",
       "    <tr>\n",
       "      <th>freq</th>\n",
       "      <td>39774</td>\n",
       "      <td>39774</td>\n",
       "      <td>39774</td>\n",
       "    </tr>\n",
       "  </tbody>\n",
       "</table>\n",
       "</div>"
      ],
      "text/plain": [
       "           id cuisine ingredients\n",
       "count   39774   39774       39774\n",
       "unique      1       1           1\n",
       "top     False   False       False\n",
       "freq    39774   39774       39774"
      ]
     },
     "execution_count": 6,
     "metadata": {},
     "output_type": "execute_result"
    }
   ],
   "source": [
    "df_train.isna().describe()"
   ]
  },
  {
   "cell_type": "code",
   "execution_count": 7,
   "metadata": {
    "colab": {
     "base_uri": "https://localhost:8080/",
     "height": 173
    },
    "id": "l2PSKJXtmu5T",
    "outputId": "20881fbf-7870-4bab-8a41-a0f817c057a7"
   },
   "outputs": [
    {
     "data": {
      "text/html": [
       "<div>\n",
       "<style scoped>\n",
       "    .dataframe tbody tr th:only-of-type {\n",
       "        vertical-align: middle;\n",
       "    }\n",
       "\n",
       "    .dataframe tbody tr th {\n",
       "        vertical-align: top;\n",
       "    }\n",
       "\n",
       "    .dataframe thead th {\n",
       "        text-align: right;\n",
       "    }\n",
       "</style>\n",
       "<table border=\"1\" class=\"dataframe\">\n",
       "  <thead>\n",
       "    <tr style=\"text-align: right;\">\n",
       "      <th></th>\n",
       "      <th>id</th>\n",
       "      <th>ingredients</th>\n",
       "    </tr>\n",
       "  </thead>\n",
       "  <tbody>\n",
       "    <tr>\n",
       "      <th>count</th>\n",
       "      <td>9944</td>\n",
       "      <td>9944</td>\n",
       "    </tr>\n",
       "    <tr>\n",
       "      <th>unique</th>\n",
       "      <td>1</td>\n",
       "      <td>1</td>\n",
       "    </tr>\n",
       "    <tr>\n",
       "      <th>top</th>\n",
       "      <td>False</td>\n",
       "      <td>False</td>\n",
       "    </tr>\n",
       "    <tr>\n",
       "      <th>freq</th>\n",
       "      <td>9944</td>\n",
       "      <td>9944</td>\n",
       "    </tr>\n",
       "  </tbody>\n",
       "</table>\n",
       "</div>"
      ],
      "text/plain": [
       "           id ingredients\n",
       "count    9944        9944\n",
       "unique      1           1\n",
       "top     False       False\n",
       "freq     9944        9944"
      ]
     },
     "execution_count": 7,
     "metadata": {},
     "output_type": "execute_result"
    }
   ],
   "source": [
    "df_test.isna().describe()"
   ]
  },
  {
   "cell_type": "code",
   "execution_count": 8,
   "metadata": {
    "colab": {
     "base_uri": "https://localhost:8080/",
     "height": 176
    },
    "id": "lnQsVbD0m79O",
    "outputId": "5956a5c1-3517-4a40-fdbd-9a1f40a2d936"
   },
   "outputs": [
    {
     "data": {
      "text/plain": [
       "id             0\n",
       "cuisine        0\n",
       "ingredients    0\n",
       "dtype: int64"
      ]
     },
     "execution_count": 8,
     "metadata": {},
     "output_type": "execute_result"
    }
   ],
   "source": [
    "df_train.isna().sum()"
   ]
  },
  {
   "cell_type": "code",
   "execution_count": 9,
   "metadata": {
    "colab": {
     "base_uri": "https://localhost:8080/",
     "height": 145
    },
    "id": "7ih12U5Tm9-Z",
    "outputId": "d2d460d9-0382-461c-c753-1ec63d2851a6"
   },
   "outputs": [
    {
     "data": {
      "text/plain": [
       "id             0\n",
       "ingredients    0\n",
       "dtype: int64"
      ]
     },
     "execution_count": 9,
     "metadata": {},
     "output_type": "execute_result"
    }
   ],
   "source": [
    "df_test.isna().sum()"
   ]
  },
  {
   "cell_type": "code",
   "execution_count": 10,
   "metadata": {
    "colab": {
     "base_uri": "https://localhost:8080/",
     "height": 1000
    },
    "id": "p1wf-vPZmOUX",
    "outputId": "f278441b-00bb-4f3c-e9e7-bb71ae038449"
   },
   "outputs": [
    {
     "name": "stdout",
     "output_type": "stream",
     "text": [
      "Number of Unique Cuisines are:  20\n"
     ]
    },
    {
     "data": {
      "text/plain": [
       "cuisine\n",
       "italian         7838\n",
       "mexican         6438\n",
       "southern_us     4320\n",
       "indian          3003\n",
       "chinese         2673\n",
       "french          2646\n",
       "cajun_creole    1546\n",
       "thai            1539\n",
       "japanese        1423\n",
       "greek           1175\n",
       "spanish          989\n",
       "korean           830\n",
       "vietnamese       825\n",
       "moroccan         821\n",
       "british          804\n",
       "filipino         755\n",
       "irish            667\n",
       "jamaican         526\n",
       "russian          489\n",
       "brazilian        467\n",
       "Name: count, dtype: int64"
      ]
     },
     "execution_count": 10,
     "metadata": {},
     "output_type": "execute_result"
    },
    {
     "data": {
      "image/png": "[encoded data removed]",
      "text/plain": [
       "<Figure size 640x480 with 1 Axes>"
      ]
     },
     "metadata": {},
     "output_type": "display_data"
    }
   ],
   "source": [
    "cuisine_freq = df_train[\"cuisine\"].value_counts()\n",
    "\n",
    "cuisine_freq.plot(kind=\"bar\")\n",
    "print(\"Number of Unique Cuisines are: \",len(cuisine_freq))\n",
    "cuisine_freq\n"
   ]
  },
  {
   "cell_type": "code",
   "execution_count": 11,
   "metadata": {
    "colab": {
     "base_uri": "https://localhost:8080/",
     "height": 302
    },
    "id": "24sMKvQsnF44",
    "outputId": "70bfb958-814e-41ae-9ba8-05944081cadc"
   },
   "outputs": [
    {
     "data": {
      "text/plain": [
       "<matplotlib.image.AxesImage at 0x2a6efd7d0>"
      ]
     },
     "execution_count": 11,
     "metadata": {},
     "output_type": "execute_result"
    },
    {
     "data": {
      "image/png": "[encoded data removed]",
      "text/plain": [
       "<Figure size 640x480 with 1 Axes>"
      ]
     },
     "metadata": {},
     "output_type": "display_data"
    }
   ],
   "source": [
    "cuisine_freq_dict = cuisine_freq.to_dict()\n",
    "\n",
    "wordcloud = WordCloud()\n",
    "cuisine_wordcloud = wordcloud.generate_from_frequencies(cuisine_freq_dict)\n",
    "plt.axis('off')\n",
    "plt.imshow(cuisine_wordcloud)"
   ]
  },
  {
   "cell_type": "code",
   "execution_count": 12,
   "metadata": {
    "colab": {
     "base_uri": "https://localhost:8080/",
     "height": 501
    },
    "id": "EPT0H42zpH3f",
    "outputId": "4ab6155e-0d15-41fb-8fa8-929c94882969"
   },
   "outputs": [
    {
     "name": "stdout",
     "output_type": "stream",
     "text": [
      "Number of Unique Ingredients are:  6714\n"
     ]
    },
    {
     "data": {
      "text/plain": [
       "ingredients\n",
       "salt                         18049\n",
       "olive oil                     7972\n",
       "onions                        7972\n",
       "water                         7457\n",
       "garlic                        7380\n",
       "                             ...  \n",
       "sauerkraut juice                 1\n",
       "no-calorie sweetener             1\n",
       "Bob Evans Italian Sausage        1\n",
       "extra firm silken tofu           1\n",
       "crushed cheese crackers          1\n",
       "Name: count, Length: 6714, dtype: int64"
      ]
     },
     "execution_count": 12,
     "metadata": {},
     "output_type": "execute_result"
    }
   ],
   "source": [
    "ingredients_df = df_train.explode('ingredients')\n",
    "ingredients_freq = ingredients_df['ingredients'].value_counts()\n",
    "\n",
    "\n",
    "print(\"Number of Unique Ingredients are: \",len(ingredients_freq))\n",
    "ingredients_freq"
   ]
  },
  {
   "cell_type": "code",
   "execution_count": 13,
   "metadata": {
    "colab": {
     "base_uri": "https://localhost:8080/",
     "height": 302
    },
    "id": "BY-x864HrIbl",
    "outputId": "c5a20025-e1c0-44be-9af9-06c60493d89c"
   },
   "outputs": [
    {
     "data": {
      "text/plain": [
       "<matplotlib.image.AxesImage at 0x29d04d110>"
      ]
     },
     "execution_count": 13,
     "metadata": {},
     "output_type": "execute_result"
    },
    {
     "data": {
      "image/png": "[encoded data removed]",
      "text/plain": [
       "<Figure size 640x480 with 1 Axes>"
      ]
     },
     "metadata": {},
     "output_type": "display_data"
    }
   ],
   "source": [
    "ingredients_freq_dict = ingredients_freq.to_dict()\n",
    "ingredients_freq_wordcloud=wordcloud.generate_from_frequencies(ingredients_freq_dict)\n",
    "plt.axis('off')\n",
    "plt.imshow(ingredients_freq_wordcloud)"
   ]
  },
  {
   "cell_type": "code",
   "execution_count": 14,
   "metadata": {
    "colab": {
     "base_uri": "https://localhost:8080/",
     "height": 484
    },
    "id": "5liMKXapqlg-",
    "outputId": "6c9a37b5-658a-4963-b00b-d860d34947b8"
   },
   "outputs": [
    {
     "data": {
      "text/plain": [
       "cuisine     ingredients         \n",
       "brazilian   salt                    194\n",
       "            onions                  133\n",
       "            olive oil               118\n",
       "            lime                     89\n",
       "            water                    87\n",
       "                                   ... \n",
       "vietnamese  worcestershire sauce      1\n",
       "            yam bean                  1\n",
       "            yellow peppers            1\n",
       "            yellow squash             1\n",
       "            yukon gold potatoes       1\n",
       "Name: count, Length: 29179, dtype: int64"
      ]
     },
     "execution_count": 14,
     "metadata": {},
     "output_type": "execute_result"
    }
   ],
   "source": [
    "ingredients_by_cuisine = ingredients_df.groupby('cuisine')\n",
    "\n",
    "ingredients_by_cuisine_freq = ingredients_by_cuisine['ingredients'].value_counts()\n",
    "\n",
    "ingredients_by_cuisine_freq"
   ]
  },
  {
   "cell_type": "code",
   "execution_count": 15,
   "metadata": {
    "id": "Ome9fFytq_4-"
   },
   "outputs": [],
   "source": [
    "\n",
    "#To do for pre-processing, i think:\n",
    "#NER: The one from Assignment 1 is missing ingredients: confirm if we need to do NER or no.\n",
    "#Rank freq all that plots from Assignment 1\n",
    "#Freq-cuisine stuff from Assignment 2\n",
    "#Create WordCloud/barplot/any visualisation, to see what ingredients are popular per cuisine - dont know how to use ingredients_by_cuisine_freq for that"
   ]
  },
  {
   "cell_type": "markdown",
   "metadata": {},
   "source": [
    "Reference - https://medium.com/@awaldeep/understanding-the-essentials-nlp-text-preprocessing-steps-b5d1fd58c11a"
   ]
  },
  {
   "cell_type": "code",
   "execution_count": 16,
   "metadata": {
    "id": "YOIFrzatAl0H"
   },
   "outputs": [],
   "source": [
    "def pre_process(ingredient_list):\n",
    "    stop_words = set(stopwords.words(\"english\"))\n",
    "    word_lemmatizer = WordNetLemmatizer()\n",
    "    cooking_words = {\"cut\",\"organic\",\"fresh\",\"large\",\"small\",\"diced\",\"chopped\",\"minced\",\"cup\",\"spoon\",\"chop\",\"tablespoon\",\"teaspoon\",\"pinch\",\"boiled\",\"baked\",\"grilled\",\"steamed\",\"sliced\",\"whole\",\"crushed\",\"pureed\",\"roasted\",\"blended\",\"mashed\",\"peeled\",\"shredded\",\"cut\",\"stirred\",\"whisked\",\"seared\",\"toasted\",\"frozen\",\"softened\",\"defrosted\",\"grated\",\"fried\",\"drained\",\"seasoned\",\"marinated\",\"garnished\",\"glazed\",\"caramelized\",\"zested\",\"dressed\",\"broiled\",\"cubed\",\"poured\",\"melted\",\"scrambled\",\"simmered\",\"braised\",\"browned\",\"reduced\",\"cooled\",\"tossed\",\"all-purpose\"}\n",
    "    ingridient_processed = []\n",
    "\n",
    "    for ingredients in ingredient_list:\n",
    "        final_ingredient = []\n",
    "        split_list = word_tokenize(ingredients)\n",
    "        for ingredient in split_list:\n",
    "\n",
    "            ingredient = ingredient.lower()\n",
    "            ingredient = ingredient.strip()\n",
    "            ingredient = re.sub(r'[^a-zA-Z\\s]','',ingredient)\n",
    "           \n",
    "            if(ingredient in stop_words or ingredient in cooking_words):\n",
    "                continue\n",
    "            else:\n",
    "\n",
    "                ingredient = word_lemmatizer.lemmatize(ingredient)\n",
    "                if(ingredient == \"\"):\n",
    "                    continue\n",
    "                final_ingredient.append(ingredient)\n",
    "        if(len(final_ingredient) > 0):\n",
    "            ingridient_processed.append(\" \".join(final_ingredient))\n",
    "\n",
    "    return \" \".join(ingridient_processed)\n"
   ]
  },
  {
   "cell_type": "code",
   "execution_count": 17,
   "metadata": {
    "id": "Qo21C2rnAl0I",
    "scrolled": true
   },
   "outputs": [],
   "source": [
    "df_train[\"ingredients\"] = df_train[\"ingredients\"].map(pre_process)\n",
    "df_test[\"ingredients\"] = df_test[\"ingredients\"].map(pre_process)"
   ]
  },
  {
   "cell_type": "code",
   "execution_count": 18,
   "metadata": {
    "colab": {
     "base_uri": "https://localhost:8080/",
     "height": 204
    },
    "id": "zRdA5QCzAl0J",
    "outputId": "157190e0-b225-49b9-a0af-c5a46479475f",
    "scrolled": true
   },
   "outputs": [
    {
     "data": {
      "text/html": [
       "<div>\n",
       "<style scoped>\n",
       "    .dataframe tbody tr th:only-of-type {\n",
       "        vertical-align: middle;\n",
       "    }\n",
       "\n",
       "    .dataframe tbody tr th {\n",
       "        vertical-align: top;\n",
       "    }\n",
       "\n",
       "    .dataframe thead th {\n",
       "        text-align: right;\n",
       "    }\n",
       "</style>\n",
       "<table border=\"1\" class=\"dataframe\">\n",
       "  <thead>\n",
       "    <tr style=\"text-align: right;\">\n",
       "      <th></th>\n",
       "      <th>id</th>\n",
       "      <th>cuisine</th>\n",
       "      <th>ingredients</th>\n",
       "    </tr>\n",
       "  </thead>\n",
       "  <tbody>\n",
       "    <tr>\n",
       "      <th>0</th>\n",
       "      <td>10259</td>\n",
       "      <td>greek</td>\n",
       "      <td>romaine lettuce black olive grape tomato garli...</td>\n",
       "    </tr>\n",
       "    <tr>\n",
       "      <th>1</th>\n",
       "      <td>25693</td>\n",
       "      <td>southern_us</td>\n",
       "      <td>plain flour ground pepper salt tomato ground b...</td>\n",
       "    </tr>\n",
       "    <tr>\n",
       "      <th>2</th>\n",
       "      <td>20130</td>\n",
       "      <td>filipino</td>\n",
       "      <td>egg pepper salt mayonaise cooking oil green ch...</td>\n",
       "    </tr>\n",
       "    <tr>\n",
       "      <th>3</th>\n",
       "      <td>22213</td>\n",
       "      <td>indian</td>\n",
       "      <td>water vegetable oil wheat salt</td>\n",
       "    </tr>\n",
       "    <tr>\n",
       "      <th>4</th>\n",
       "      <td>13162</td>\n",
       "      <td>indian</td>\n",
       "      <td>black pepper shallot cornflour cayenne pepper ...</td>\n",
       "    </tr>\n",
       "  </tbody>\n",
       "</table>\n",
       "</div>"
      ],
      "text/plain": [
       "      id      cuisine                                        ingredients\n",
       "0  10259        greek  romaine lettuce black olive grape tomato garli...\n",
       "1  25693  southern_us  plain flour ground pepper salt tomato ground b...\n",
       "2  20130     filipino  egg pepper salt mayonaise cooking oil green ch...\n",
       "3  22213       indian                     water vegetable oil wheat salt\n",
       "4  13162       indian  black pepper shallot cornflour cayenne pepper ..."
      ]
     },
     "execution_count": 18,
     "metadata": {},
     "output_type": "execute_result"
    }
   ],
   "source": [
    "df_train.head()"
   ]
  },
  {
   "cell_type": "code",
   "execution_count": 19,
   "metadata": {
    "colab": {
     "base_uri": "https://localhost:8080/",
     "height": 204
    },
    "id": "AraJw-uQAl0K",
    "outputId": "9196f18c-3ea9-4f17-f297-713f169f5ac2"
   },
   "outputs": [
    {
     "data": {
      "text/html": [
       "<div>\n",
       "<style scoped>\n",
       "    .dataframe tbody tr th:only-of-type {\n",
       "        vertical-align: middle;\n",
       "    }\n",
       "\n",
       "    .dataframe tbody tr th {\n",
       "        vertical-align: top;\n",
       "    }\n",
       "\n",
       "    .dataframe thead th {\n",
       "        text-align: right;\n",
       "    }\n",
       "</style>\n",
       "<table border=\"1\" class=\"dataframe\">\n",
       "  <thead>\n",
       "    <tr style=\"text-align: right;\">\n",
       "      <th></th>\n",
       "      <th>id</th>\n",
       "      <th>ingredients</th>\n",
       "    </tr>\n",
       "  </thead>\n",
       "  <tbody>\n",
       "    <tr>\n",
       "      <th>0</th>\n",
       "      <td>18009</td>\n",
       "      <td>baking powder egg allpurpose flour raisin milk...</td>\n",
       "    </tr>\n",
       "    <tr>\n",
       "      <th>1</th>\n",
       "      <td>28583</td>\n",
       "      <td>sugar egg yolk corn starch cream tartar banana...</td>\n",
       "    </tr>\n",
       "    <tr>\n",
       "      <th>2</th>\n",
       "      <td>41580</td>\n",
       "      <td>sausage link fennel bulb frond olive oil cuban...</td>\n",
       "    </tr>\n",
       "    <tr>\n",
       "      <th>3</th>\n",
       "      <td>29752</td>\n",
       "      <td>meat cut file powder smoked sausage okra shrim...</td>\n",
       "    </tr>\n",
       "    <tr>\n",
       "      <th>4</th>\n",
       "      <td>35687</td>\n",
       "      <td>ground black pepper salt sausage casing leek p...</td>\n",
       "    </tr>\n",
       "  </tbody>\n",
       "</table>\n",
       "</div>"
      ],
      "text/plain": [
       "      id                                        ingredients\n",
       "0  18009  baking powder egg allpurpose flour raisin milk...\n",
       "1  28583  sugar egg yolk corn starch cream tartar banana...\n",
       "2  41580  sausage link fennel bulb frond olive oil cuban...\n",
       "3  29752  meat cut file powder smoked sausage okra shrim...\n",
       "4  35687  ground black pepper salt sausage casing leek p..."
      ]
     },
     "execution_count": 19,
     "metadata": {},
     "output_type": "execute_result"
    }
   ],
   "source": [
    "df_test.head()"
   ]
  },
  {
   "cell_type": "code",
   "execution_count": 20,
   "metadata": {},
   "outputs": [],
   "source": [
    "X = df_train[\"ingredients\"]\n",
    "y = df_train[\"cuisine\"]"
   ]
  },
  {
   "cell_type": "code",
   "execution_count": 21,
   "metadata": {
    "id": "Om4tN5eiAl0K",
    "scrolled": true
   },
   "outputs": [],
   "source": [
    "le = LabelEncoder()\n",
    "y_tfid = le.fit_transform(y)\n",
    "\n",
    "tfid = TfidfVectorizer()\n",
    "X_tfid = tfid.fit_transform(X)\n",
    "\n",
    "ingridient_list = []\n",
    "for ingridients in X.to_list():\n",
    "    ingridient_list.append(ingridients.split(\" \"))\n",
    "word2vec =  Word2Vec(ingridient_list,window=2,min_count=1)\n",
    "X_word2vec = []\n",
    "\n",
    "for ingridients in X:\n",
    "    ingridient_list = ingridients.split(\" \")\n",
    "\n",
    "    word2vec_score = []\n",
    "    for ingredient in ingridient_list:\n",
    "        if(ingredient not in word2vec.wv):\n",
    "\n",
    "            continue\n",
    "\n",
    "        word2vec_score.append(word2vec.wv[ingredient])\n",
    "    if(word2vec_score == []):\n",
    "        X_word2vec.append(np.zeros(100))\n",
    "        continue\n",
    "    X_word2vec.append(np.mean(word2vec_score,axis=0))\n",
    "\n",
    "X_word2vec = pd.Series(X_word2vec)"
   ]
  },
  {
   "cell_type": "code",
   "execution_count": null,
   "metadata": {},
   "outputs": [],
   "source": [
    "tsne = TSNE(n_components=2, random_state=42,max_iter=1000)\n",
    "X_tsne = tsne.fit_transform(X_tfid.toarray())\n",
    "\n",
    "df_tsne = pd.DataFrame(X_tsne, columns=['Dimension 1','Dimension 2'])\n",
    "df_tsne['Cuisine'] = le.inverse_transform(y)\n",
    "\n",
    "plt.figure(figsize=(12, 8))\n",
    "sns.scatterplot(x='Dimension 1',y='Dimension 2',hue='Cuisine',data=df_tsne)\n",
    "plt.title('t-SNE Clusters of Cuisines')\n",
    "plt.xlabel('Dimension 1')\n",
    "plt.ylabel('Dimension 2')\n",
    "plt.legend()\n",
    "plt.show()"
   ]
  },
  {
   "cell_type": "code",
   "execution_count": null,
   "metadata": {},
   "outputs": [],
   "source": [
    "X_train_tfid,X_test_tfid,y_train_tfid,y_test_tfid = train_test_split(X_tfid,y_tfid,test_size=0.20,random_state=42)\n",
    "X_train_word2vec,X_test_word2vec,y_train_word2vec,y_test_word2vec = train_test_split(X_word2vec.to_list(),y_tfid,test_size=0.20,random_state=42)"
   ]
  },
  {
   "cell_type": "code",
   "execution_count": null,
   "metadata": {},
   "outputs": [],
   "source": [
    "svm_model_tfid = SVC()\n",
    "svm_model_tfid.fit(X_train_tfid,y_train_tfid)\n",
    "y_pred = svm_model_tfid.predict(X_test_tfid)\n",
    "print(f\"SVM Accuracy : {accuracy_score(y_test_tfid,y_pred)}\")\n"
   ]
  },
  {
   "cell_type": "code",
   "execution_count": null,
   "metadata": {},
   "outputs": [],
   "source": [
    "svm_model_word2vec = SVC()\n",
    "svm_model_word2vec.fit(X_train_word2vec,y_train_word2vec)\n",
    "y_pred = svm_model_word2vec.predict(X_test_word2vec)\n",
    "print(f\"SVM Accuracy : {accuracy_score(y_test_word2vec,y_pred)}\")"
   ]
  },
  {
   "cell_type": "code",
   "execution_count": null,
   "metadata": {
    "id": "4FOJMGIzAl0M"
   },
   "outputs": [],
   "source": [
    "pca = PCA(n_components=0.95)\n",
    "X_pca = pca.fit_transform(X_tfid.toarray())\n",
    "X_train_pca,X_test_pca,y_train_pca,y_test_pca = train_test_split(X_pca,y_tfid,test_size=0.20,random_state=42)"
   ]
  },
  {
   "cell_type": "code",
   "execution_count": null,
   "metadata": {},
   "outputs": [],
   "source": [
    "svm_model_pca = SVC()\n",
    "svm_model_pca.fit(X_train_pca,y_train_pca)\n",
    "y_pred = svm_model_pca.predict(X_test_pca)\n",
    "print(f\"SVM Accuracy : {accuracy_score(y_test_pca,y_pred)}\")"
   ]
  },
  {
   "cell_type": "code",
   "execution_count": null,
   "metadata": {
    "colab": {
     "base_uri": "https://localhost:8080/"
    },
    "id": "hIZBThhLAl0O",
    "outputId": "6615a5e0-ee7c-4091-f4c5-47e99dd21315"
   },
   "outputs": [],
   "source": [
    "adaysn = ADASYN()\n",
    "smote=SMOTE()\n",
    "unique_elements, counts = np.unique(y_train, return_counts=True)\n",
    "print(f\"Before oversampling : {counts}\")\n",
    "X_train_adasyn,y_train_adasyn = adaysn.fit_resample(X_train_tfid,y_train_tfid)\n",
    "X_train_smote,y_train_smote = smote.fit_resample(X_train_tfid,y_train_tfid)\n",
    "\n",
    "unique_elements, counts = np.unique(y_train_adasyn, return_counts=True)\n",
    "print(f\"After oversampling : {counts}\")"
   ]
  },
  {
   "cell_type": "code",
   "execution_count": null,
   "metadata": {
    "id": "Kwkjv1M6Al0O"
   },
   "outputs": [],
   "source": [
    "svm_model_adasyn = SVC()\n",
    "svm_model_adasyn.fit(X_train_adasyn,y_train_adasyn)\n",
    "y_pred = svm_model_adasyn.predict(X_test_tfid)\n",
    "print(f\"SVM Accuracy : {accuracy_score(y_test,y_pred)}\")"
   ]
  },
  {
   "cell_type": "code",
   "execution_count": null,
   "metadata": {
    "colab": {
     "base_uri": "https://localhost:8080/",
     "height": 333
    },
    "id": "svtg834ZAl0N",
    "outputId": "b7ce5fa1-705b-42dd-d9e6-522eabd94a11"
   },
   "outputs": [],
   "source": [
    "svm_model_smote = SVC()\n",
    "svm_model_smote.fit(X_train_smote,y_train_smote)\n",
    "y_pred = svm_model_smote.predict(X_test_tfid)\n",
    "print(f\"SVM Accuracy : {accuracy_score(y_test_tfid,y_pred)}\")"
   ]
  },
  {
   "cell_type": "code",
   "execution_count": null,
   "metadata": {
    "scrolled": true
   },
   "outputs": [],
   "source": [
    "y_pred_tfid = svm_model_tfid.predict(X_test_tfid)\n",
    "print(classification_report(y_test_tfid,y_pred_tfid))"
   ]
  },
  {
   "cell_type": "code",
   "execution_count": null,
   "metadata": {},
   "outputs": [],
   "source": [
    "y_pred_word2vec = svm_model_word2vec.predict(X_test_word2vec)\n",
    "print(classification_report(y_test_word2vec,y_pred_word2vec))"
   ]
  },
  {
   "cell_type": "code",
   "execution_count": null,
   "metadata": {},
   "outputs": [],
   "source": [
    "y_pred_pca = svm_model_pca.predict(X_test_pca)\n",
    "print(classification_report(y_test_pca,y_pred_pca))"
   ]
  },
  {
   "cell_type": "code",
   "execution_count": null,
   "metadata": {},
   "outputs": [],
   "source": [
    "y_pred_adasyn = svm_model_adasyn.predict(X_test_tfid)\n",
    "print(classification_report(y_test_tfid,y_pred_adasyn))"
   ]
  },
  {
   "cell_type": "code",
   "execution_count": null,
   "metadata": {},
   "outputs": [],
   "source": [
    "y_pred_smote = svm_model_smote.predict(X_test_tfid)\n",
    "print(classification_report(y_test_tfid,y_pred_smote))"
   ]
  },
  {
   "cell_type": "code",
   "execution_count": null,
   "metadata": {},
   "outputs": [],
   "source": [
    "def xgb_classifier(X_train,y_train,X_test,y_test):\n",
    "    xgb = XGBClassifier()\n",
    "    xgb.fit(X_train,y_train)\n",
    "    y_pred = xgb.predict(X_test)\n",
    "    print(f\"XGBoost Accuracy : {accuracy_score(y_test,y_pred)}\")\n",
    "    print(f\"Classification Report : {classification_report(y_test,y_pred)}\")"
   ]
  },
  {
   "cell_type": "code",
   "execution_count": null,
   "metadata": {},
   "outputs": [],
   "source": [
    "def neural_network(X_train,y_train,X_test,y_test,le):\n",
    "    neural_network_model = Sequential()\n",
    "    neural_network_model.add(Dense(1280,input_dim=X_train.shape[1],activation=\"relu\"))\n",
    "    neural_network_model.add(Dropout(0.5))\n",
    "    neural_network_model.add(Dense(320,activation=\"relu\"))\n",
    "    neural_network_model.add(Dropout(0.1))\n",
    "    neural_network_model.add(Dense(80,activation=\"relu\"))\n",
    "    neural_network_model.add(Dense(len(le.classes_),activation=\"softmax\"))\n",
    "    neural_network_model.compile(optimizer=\"adam\",loss=\"sparse_categorical_crossentropy\",metrics=[\"accuracy\"])\n",
    "\n",
    "    neural_network_model.fit(X_train.toarray(),y_train,batch_size=32,epochs=50)\n",
    "    loss, accuracy = neural_network_model.evaluate(X_test.toarray(),y_test)\n",
    "    print(f\"Neural Network Accuracy: {accuracy}\")\n"
   ]
  },
  {
   "cell_type": "code",
   "execution_count": null,
   "metadata": {},
   "outputs": [],
   "source": [
    "def random_forest(X_train,y_train,X_test,y_test):\n",
    "    rf = RandomForestClassifier(random_state=42)\n",
    "    rf.fit(X_train_tfid,y_train_tfid)\n",
    "    y_pred = rf.predict(X_test)\n",
    "    print(f\"RF Accuracy : {accuracy_score(y_test,y_pred)}\")\n",
    "    print(f\"Classification Report : {classification_report(y_test,y_pred)}\")"
   ]
  },
  {
   "cell_type": "code",
   "execution_count": null,
   "metadata": {},
   "outputs": [],
   "source": [
    "def naive_bayes(X_train,y_train,X_test,y_test):\n",
    "    gnb = GaussianNB()\n",
    "\n",
    "    gnb.fit(X_train.toarray(), y_train)\n",
    "\n",
    "    y_pred = gnb.predict(X_test.toarray())\n",
    "    y_prob = gnb.predict_proba(X_test.toarray())\n",
    "\n",
    "    accuracy_gnb = accuracy_score(y_test, y_pred)\n",
    "\n",
    "    auc_roc_gnb = roc_auc_score(y_test, y_prob, multi_class='ovr')\n",
    "\n",
    "    print(f\"Naive Bayes Accuracy: {accuracy_gnb:.4f}\")\n",
    "    print(f\"Naive Bayes AUC-ROC Score: {auc_roc_gnb:.4f}\")\n",
    "    print(f\"Classification Report : {classification_report(y_test,y_pred)}\")"
   ]
  },
  {
   "cell_type": "code",
   "execution_count": null,
   "metadata": {},
   "outputs": [],
   "source": [
    "def decision_tree(X_train,y_train,X_test,y_test):\n",
    "    dtc = DecisionTreeClassifier(random_state=42)\n",
    "\n",
    "    dtc.fit(X_train, y_train)\n",
    "\n",
    "    y_pred = dtc.predict(X_test)\n",
    "    y_prob = dtc.predict_proba(X_test)\n",
    "\n",
    "    accuracy_dtc = accuracy_score(y_test, y_pred)\n",
    "    auc_roc_dtc = roc_auc_score(y_test, y_prob, multi_class='ovr')\n",
    "\n",
    "\n",
    "    print(f\"Decision Tree Accuracy: {accuracy_dtc:.4f}\")\n",
    "    print(f\"Decision Tree AUC-ROC Score: {auc_roc_dtc:.4f}\")\n",
    "    print(f\"Classification Report : {classification_report(y_test,y_pred)}\")"
   ]
  },
  {
   "cell_type": "code",
   "execution_count": null,
   "metadata": {},
   "outputs": [],
   "source": [
    "def perceptron_model(X_train,y_train,X_test,y_test):\n",
    "    perceptron = Perceptron(max_iter=1000, tol=1e-3, random_state=42)\n",
    "\n",
    "    perceptron.fit(X_train, y_train)\n",
    "\n",
    "    y_pred_perceptron = perceptron.predict(X_test)\n",
    "\n",
    "    accuracy_perceptron = accuracy_score(y_test, y_pred_perceptron)\n",
    "\n",
    "    print(f\"Perceptron Accuracy: {accuracy_perceptron:.4f}\")\n",
    "    print(f\"Classification Report : {classification_report(y_test,y_pred_perceptron)}\")"
   ]
  },
  {
   "cell_type": "code",
   "execution_count": null,
   "metadata": {},
   "outputs": [],
   "source": [
    "def k_nearest(X_train,y_train,X_test,y_test):\n",
    "    k = 3\n",
    "    knn = KNeighborsClassifier(n_neighbors=k)\n",
    "\n",
    "    knn.fit(X_train, y_train)\n",
    "\n",
    "    y_pred_knn = knn.predict(X_test)\n",
    "    y_prob_knn = knn.predict_proba(X_test)\n",
    "\n",
    "\n",
    "    accuracy = accuracy_score(y_test, y_pred_knn)\n",
    "    auc_roc_knn = roc_auc_score(y_test, y_prob_knn, multi_class='ovr')\n",
    "   \n",
    "    print(f'Knn Accuracy:{accuracy :.4f}')\n",
    "    print(f\"Knn AUC-ROC Score: {auc_roc_knn:.4f}\")\n",
    "    print(f\"Classification Report : {classification_report(y_test,y_pred_knn)}\")"
   ]
  },
  {
   "cell_type": "code",
   "execution_count": null,
   "metadata": {},
   "outputs": [],
   "source": [
    "def logistic_regression(X_train,y_train,X_test,y_test):\n",
    "    log_reg = LogisticRegression()\n",
    "\n",
    "    log_reg.fit(X_train, y_train)\n",
    "\n",
    "    y_pred_log = log_reg.predict(X_test)\n",
    "    y_prob_lr = log_reg.predict_proba(X_test)\n",
    "\n",
    "    accuracy = accuracy_score(y_test, y_pred_log)\n",
    "    auc_roc_lr = roc_auc_score(y_test, y_prob_lr, multi_class='ovr')\n",
    "    print(f'Logistic RegressionAccuracy: {accuracy :.4f}')\n",
    "    print(f\"Logistic Regression AUC-ROC Score: {auc_roc_lr:.4f}\")\n",
    "    print(f\"Classification Report : {classification_report(y_test,y_pred_log)}\")"
   ]
  },
  {
   "cell_type": "code",
   "execution_count": null,
   "metadata": {},
   "outputs": [],
   "source": [
    "def ensemble_learning(X_train,y_train,X_test,y_test):\n",
    "    clf2 = DecisionTreeClassifier(random_state=42)\n",
    "    clf3 = RandomForestClassifier(n_estimators=100, random_state=42)\n",
    "    clf4 = Perceptron(max_iter=1000, tol=1e-3, random_state=42)\n",
    "    clf5 = LogisticRegression()\n",
    "    clf6 = KNeighborsClassifier(n_neighbors=3)\n",
    "    ensemble = VotingClassifier(\n",
    "        estimators=[('dtc', clf2), ('rfc', clf3), ('per', clf4),('log_reg',clf5),('knn',clf6)],\n",
    "        voting='hard'\n",
    "    )\n",
    "\n",
    "\n",
    "    ensemble.fit(X_train,y_train)\n",
    "\n",
    "    y_pred_ensemble = ensemble.predict(X_test)\n",
    "\n",
    "    accuracy_ensemble = accuracy_score(y_test, y_pred_ensemble)\n",
    "    print(f'Ensemble Model Accuracy: {accuracy_ensemble :.4f}')\n",
    "    print(f\"Classification Report : {classification_report(y_test,y_pred_ensemble)}\")\n",
    "    "
   ]
  },
  {
   "cell_type": "code",
   "execution_count": null,
   "metadata": {},
   "outputs": [],
   "source": [
    "def mlp_classifier(X_train,y_train,X_test,y_test):\n",
    "    mlp =  MLPClassifier(random_state=42,max_iter=500)\n",
    "    mlp.fit(X_train,y_train)\n",
    "    y_pred_mlp = mlp.predict(X_test)\n",
    "    accuracy_mlp = accuracy_score(y_test,y_pred_mlp)\n",
    "\n",
    "    print(f'MLP Classifier Accuracy: {accuracy_mlp :.4f}')\n",
    "    print(f\"Classification Report : {classification_report(y_test,y_pred_mlp)}\")\n",
    "   "
   ]
  },
  {
   "cell_type": "code",
   "execution_count": null,
   "metadata": {},
   "outputs": [],
   "source": [
    "xgb_classifier(X_train_tfid,y_train_tfid,X_test_tfid,y_test_tfid)"
   ]
  },
  {
   "cell_type": "code",
   "execution_count": null,
   "metadata": {},
   "outputs": [],
   "source": [
    "xgb_classifier(X_train_word2vec,y_train_word2vec,X_test_word2vec,y_test_word2vec)"
   ]
  },
  {
   "cell_type": "code",
   "execution_count": null,
   "metadata": {},
   "outputs": [],
   "source": [
    "neural_network(X_train_tfid,y_train_tfid,X_test_tfid,y_test_tfid,le)"
   ]
  },
  {
   "cell_type": "code",
   "execution_count": null,
   "metadata": {},
   "outputs": [],
   "source": [
    "neural_network(X_train_word2vec,y_train_word2vec,X_test_word2vec,y_test_word2vec,le)"
   ]
  },
  {
   "cell_type": "code",
   "execution_count": null,
   "metadata": {},
   "outputs": [],
   "source": [
    "random_forest(X_train_tfid,y_train_tfid,X_test_tfid,y_test_tfid)"
   ]
  },
  {
   "cell_type": "code",
   "execution_count": null,
   "metadata": {},
   "outputs": [],
   "source": [
    "naive_bayes(X_train_tfid,y_train_tfid,X_test_tfid,y_test_tfid)"
   ]
  },
  {
   "cell_type": "code",
   "execution_count": null,
   "metadata": {},
   "outputs": [],
   "source": [
    "decision_tree(X_train_tfid,y_train_tfid,X_test_tfid,y_test_tfid)"
   ]
  },
  {
   "cell_type": "code",
   "execution_count": null,
   "metadata": {},
   "outputs": [],
   "source": [
    "k_nearest(X_train_tfid,y_train_tfid,X_test_tfid,y_test_tfid)"
   ]
  },
  {
   "cell_type": "code",
   "execution_count": null,
   "metadata": {},
   "outputs": [],
   "source": [
    "perceptron_model(X_train_tfid,y_train_tfid,X_test_tfid,y_test_tfid)"
   ]
  },
  {
   "cell_type": "code",
   "execution_count": null,
   "metadata": {},
   "outputs": [],
   "source": [
    "logistic_regression(X_train_tfid,y_train_tfid,X_test_tfid,y_test_tfid)"
   ]
  },
  {
   "cell_type": "code",
   "execution_count": null,
   "metadata": {},
   "outputs": [],
   "source": [
    "ensemble_learning(X_train_tfid,y_train_tfid,X_test_tfid,y_test_tfid)"
   ]
  },
  {
   "cell_type": "code",
   "execution_count": null,
   "metadata": {},
   "outputs": [],
   "source": [
    "mlp_classifier(X_train_tfid,y_train_tfid,X_test_tfid,y_test_tfid)"
   ]
  },
  {
   "cell_type": "code",
   "execution_count": null,
   "metadata": {},
   "outputs": [],
   "source": [
    "random_forest(X_train_word2vec,y_train_word2vec,X_test_word2vec,y_test_word2vec)"
   ]
  },
  {
   "cell_type": "code",
   "execution_count": null,
   "metadata": {},
   "outputs": [],
   "source": [
    "naive_bayes(X_train_word2vec,y_train_word2vec,X_test_word2vec,y_test_word2vec)"
   ]
  },
  {
   "cell_type": "code",
   "execution_count": null,
   "metadata": {},
   "outputs": [],
   "source": [
    "decision_tree(X_train_word2vec,y_train_word2vec,X_test_word2vec,y_test_word2vec)"
   ]
  },
  {
   "cell_type": "code",
   "execution_count": null,
   "metadata": {},
   "outputs": [],
   "source": [
    "k_nearest(X_train_word2vec,y_train_word2vec,X_test_word2vec,y_test_word2vec)"
   ]
  },
  {
   "cell_type": "code",
   "execution_count": null,
   "metadata": {},
   "outputs": [],
   "source": [
    "perceptron_model(X_train_word2vec,y_train_word2vec,X_test_word2vec,y_test_word2vec)"
   ]
  },
  {
   "cell_type": "code",
   "execution_count": null,
   "metadata": {},
   "outputs": [],
   "source": [
    "logistic_regression(X_train_word2vec,y_train_word2vec,X_test_word2vec,y_test_word2vec)"
   ]
  },
  {
   "cell_type": "code",
   "execution_count": null,
   "metadata": {},
   "outputs": [],
   "source": [
    "ensemble_learning(X_train_word2vec,y_train_word2vec,X_test_word2vec,y_test_word2vec)"
   ]
  },
  {
   "cell_type": "code",
   "execution_count": null,
   "metadata": {},
   "outputs": [],
   "source": [
    "mlp_classifier(X_train_word2vec,y_train_word2vec,X_test_word2vec,y_test_word2vec)"
   ]
  },
  {
   "cell_type": "code",
   "execution_count": null,
   "metadata": {
    "scrolled": true
   },
   "outputs": [],
   "source": [
    "param_grid = {'C': [0.1,1,10],'gamma': [0.1,1,10,],'kernel': ['poly', 'rbf', 'sigmoid','linear']}\n",
    "\n",
    "grid_search = GridSearchCV(estimator=SVC(random_state=42),param_grid=param_grid,cv=10,n_jobs=-1,verbose=2,scoring='accuracy')\n",
    "\n",
    "grid_search.fit(X_train_smote, y_train_smote)\n",
    "\n",
    "print(\"Best parameters found:\", grid_search.best_params_)\n",
    "print(f\"Best performance: {grid_search.best_score_} \")\n",
    "\n",
    "SVM_optimised = grid_search.best_estimator_\n",
    "SVM_optimised.fit(X_train_smote, y_train_smote)\n",
    "\n",
    "\n",
    "y_pred_SVM_optimised = SVM_optimised.predict(X_test_tfid)\n",
    "\n",
    "accuracy_SVM_optimised = accuracy_score(y_test_tfid,y_pred_SVM_optimised)\n",
    "cv_scores = cross_val_score(SVM_optimised,X_train_smote,y_train_smote, cv=10)\n",
    "mean_cv_accuracy = cv_scores.mean()\n",
    "\n",
    "print(f\"Optimized SVM Accuracy: {accuracy_SVM_optimised:.4f}\")\n",
    "print(f\"5-Fold Cross-Validation Accuracy of Optimized Random Forest: {mean_cv_accuracy:.4f}\")"
   ]
  },
  {
   "cell_type": "code",
   "execution_count": null,
   "metadata": {},
   "outputs": [],
   "source": [
    "with open('svm_grid_search_final_model.pkl','wb') as f:\n",
    "    pickle.dump(SVM_optimised,f)"
   ]
  },
  {
   "cell_type": "code",
   "execution_count": null,
   "metadata": {
    "id": "RWqLWtCyAl0P"
   },
   "outputs": [],
   "source": [
    "# X_pipeline = df_train[\"ingredients\"]\n",
    "# y_pipeline = df_train[\"cuisine\"]\n",
    "\n",
    "# X_pipeline_train,X_pipeline_test,y_pipeline_train,y_pipeline_test = train_test_split(X_pipeline,y_pipeline,test_size=0.2,random_state=42)\n",
    "# # adaysn = ADASYN()\n",
    "# # X_pipeline_adasyn,y_pipeline_adasyn = adaysn.fit_resample(X_pipeline,y_pipeline)\n",
    "# pipeline = make_pipeline(tfid,SVC())\n",
    "# pipeline.fit(X_pipeline_train,y_pipeline_train)\n",
    "# # y_pred_pipeline = pipeline.predict(X_test)\n",
    "# print(f\"Pipeline Accuracy : {pipeline.score(X_pipeline_test,y_pipeline_test)}\")\n",
    "\n",
    "# with open(\"pipeline.pkl\",'wb') as f:\n",
    "#     pickle.dump(pipeline,f)"
   ]
  },
  {
   "cell_type": "code",
   "execution_count": null,
   "metadata": {
    "id": "A3rrlf54Al0P"
   },
   "outputs": [],
   "source": [
    "# xgb = XGBClassifier()\n",
    "# xgb.fit(X_train_adasyn,y_train_adasyn)\n",
    "# y_pred = xgb.predict(X_test)\n",
    "# print(f\"XGBoost Accuracy : {accuracy_score(y_test,y_pred)}\")"
   ]
  },
  {
   "cell_type": "code",
   "execution_count": null,
   "metadata": {
    "id": "kz-nxhALAl0Q"
   },
   "outputs": [],
   "source": [
    "# param_grid = {'C': [0.1,1,10],\n",
    "#               'gamma': [0.1,1,10,],\n",
    "#               'kernel': ['poly', 'rbf', 'sigmoid','linear']}\n",
    "\n",
    "# grid_search = GridSearchCV(\n",
    "#     estimator=SVC(random_state=42),\n",
    "#     param_grid=param_grid,\n",
    "#     cv=10,\n",
    "#     n_jobs=-1,\n",
    "#     verbose=2,\n",
    "#     scoring='accuracy'\n",
    "# )\n",
    "\n",
    "# grid_search.fit(X_train, y_train)\n",
    "\n",
    "# print(\"Best parameters found:\", grid_search.best_params_)\n",
    "# print(f\"Best performance: {grid_search.best_score_} \")\n",
    "\n",
    "# SVM_optimised = grid_search.best_estimator_\n",
    "# SVM_optimised.fit(X_train, y_train)\n",
    "\n",
    "\n",
    "# y_pred_SVM_optimised = SVM_optimised.predict(X_test)\n",
    "\n",
    "# accuracy_SVM_optimised = accuracy_score(y_test, y_pred_SVM_optimised)\n",
    "# cv_scores = cross_val_score(SVM_optimised, X_train, y_train, cv=5)\n",
    "# mean_cv_accuracy = cv_scores.mean()\n",
    "\n",
    "# print(f\"Optimized SVM Accuracy: {accuracy_SVM_optimised:.4f}\")\n",
    "# print(\n",
    "#     f\"5-Fold Cross-Validation Accuracy of Optimized Random Forest: {mean_cv_accuracy:.4f}\")"
   ]
  },
  {
   "cell_type": "code",
   "execution_count": null,
   "metadata": {
    "id": "CLzGNSucAl0R"
   },
   "outputs": [],
   "source": [
    "# with open('svm_grid_seacr_model.pkl','wb') as f:\n",
    "#     pickle.dump(SVM_optimised,f)"
   ]
  },
  {
   "cell_type": "code",
   "execution_count": null,
   "metadata": {
    "id": "7ydMIYPnAl0S"
   },
   "outputs": [],
   "source": [
    "# X_pipeline = df_train[\"ingredients\"]\n",
    "# y_pipeline= df_train[\"cuisine\"]\n",
    "\n",
    "# y_pipeline = le.transform(y_pipeline)\n",
    "\n",
    "# X_pipeline_train,X_pipeline_test,y_pipeline_train,y_pipeline_test = train_test_split(X_pipeline,y_pipeline,test_size=0.2,random_state=42)\n",
    "# pipeline_grid = make_pipeline(tfid,SVC(C=10,gamma=1,kernel=\"rbf\"))\n",
    "# pipeline_grid.fit(X_pipeline_train,y_pipeline_train)\n",
    "# y_pred_pipeline = pipeline_grid.predict(X_pipeline_test)\n",
    "# print(f\"Pipeline Accuracy : {accuracy_score(y_pipeline_test,y_pred_pipeline)}\")\n"
   ]
  },
  {
   "cell_type": "code",
   "execution_count": null,
   "metadata": {
    "id": "qnUCRyFQAl0T"
   },
   "outputs": [],
   "source": [
    "# with open('pipeline_svm_grid_search.pkl','wb') as f:\n",
    "#     pickle.dump(pipeline_grid,f)"
   ]
  },
  {
   "cell_type": "code",
   "execution_count": null,
   "metadata": {
    "colab": {
     "base_uri": "https://localhost:8080/"
    },
    "id": "lUMsVZP8Al0T",
    "outputId": "0e9143ab-1023-40a5-a8e5-07b6e326173e",
    "scrolled": true
   },
   "outputs": [],
   "source": [
    "# print(X_pipeline_train.shape)\n",
    "# X_nn =  tfid.transform(df_train[\"ingredients\"])\n",
    "# y_nn = df_train[\"cuisine\"]\n",
    "# y_nn = le.transform(y_nn)\n",
    "# X_nn = X_nn.astype(\"float32\")\n",
    "# X_train_nn,X_test_nn,y_train_nn,y_test_nn = train_test_split(X_train,y_train,test_size=0.2,random_state=42)\n",
    "# X_train_nn = X_train_nn.reshape(-1,1)\n",
    "# X_test_nn = X_test_nn.reshape(-1,1)\n",
    "# X_train_nn = X_train_nn.reshape(-1,1)\n",
    "# X_test_nn = X_test_nn.reshape(-1,1)\n",
    "\n",
    "# neural_network_model = Sequential()\n",
    "# neural_network_model.add(Dense(1280,input_dim=X_train.shape[1],activation=\"relu\"))\n",
    "# neural_network_model.add(Dropout(0.5))\n",
    "# neural_network_model.add(Dense(320,activation=\"relu\"))\n",
    "# neural_network_model.add(Dropout(0.1))\n",
    "# neural_network_model.add(Dense(80,activation=\"relu\"))\n",
    "# neural_network_model.add(Dense(len(le.classes_),activation=\"softmax\"))\n",
    "# neural_network_model.compile(optimizer=\"adam\",loss=\"sparse_categorical_crossentropy\",metrics=[\"accuracy\"])\n",
    "\n",
    "# neural_network_model.fit(X_train_nn.toarray(),y_train,batch_size=32,epochs=50)\n",
    "# loss, accuracy = neural_network_model.evaluate(X_test.toarray(),y_test_nn)\n",
    "# print(f\"Neural Network Accuracy: {accuracy}\")\n"
   ]
  },
  {
   "cell_type": "code",
   "execution_count": null,
   "metadata": {
    "id": "gfRbZ6Q6Al0U"
   },
   "outputs": [],
   "source": [
    "# with open(\"seq_nn.pkl\",'wb') as f:\n",
    "#     pickle.dump(neural_network_model,f)"
   ]
  },
  {
   "cell_type": "code",
   "execution_count": null,
   "metadata": {
    "id": "APngeetaAl0V"
   },
   "outputs": [],
   "source": [
    "# kfold = KFold(n_splits=10,shuffle=True)"
   ]
  },
  {
   "cell_type": "code",
   "execution_count": null,
   "metadata": {
    "colab": {
     "base_uri": "https://localhost:8080/"
    },
    "id": "bnS_rUeMQgAj",
    "outputId": "3248f79c-a0d7-478d-c5aa-fa7faad128c5"
   },
   "outputs": [],
   "source": [
    "# rf = RandomForestClassifier(random_state=42)\n",
    "# rf.fit(X_train_smote,y_train_smote)\n",
    "# y_pred_rf = rf.predict(X_test)\n",
    "# print(f\"RF Accuracy : {accuracy_score(y_test,y_pred_rf)}\")"
   ]
  },
  {
   "cell_type": "code",
   "execution_count": null,
   "metadata": {
    "colab": {
     "base_uri": "https://localhost:8080/"
    },
    "id": "kU5RXd6cXW66",
    "outputId": "71c9a40e-eb9d-4da6-d0b8-beeec63547bc"
   },
   "outputs": [],
   "source": [
    "# param_grid = {\n",
    "\n",
    "#     'n_estimators': [100, 300, 500],\n",
    "#     'max_depth': [None,25,50],\n",
    "#     'min_samples_split': [2, 5, 10],\n",
    "#     'min_samples_leaf': [1, 2, 4],\n",
    "# }\n",
    "\n",
    "# grid_search = GridSearchCV(\n",
    "#     estimator=RandomForestClassifier(random_state=42),\n",
    "#     param_grid=param_grid,\n",
    "#     cv=3,\n",
    "#     n_jobs=-1,\n",
    "#     verbose=2,\n",
    "#     scoring='accuracy'\n",
    "# )\n",
    "\n",
    "# grid_search.fit(X_train, y_train)\n",
    "\n",
    "# print(\"Best parameters found:\", grid_search.best_params_)\n",
    "# print(f\"Best performance: {grid_search.best_score_} \")\n",
    "\n",
    "# RF_optimised = grid_search.best_estimator_\n",
    "# RF_optimised.fit(X_train_smote, y_train_smote)\n",
    "\n",
    "\n",
    "# y_pred_RF_optimised = RF_optimised.predict(X_test)\n",
    "\n",
    "# accuracy_RF_optimised = accuracy_score(y_test, y_pred_smote_optimised)\n",
    "# cv_scores = cross_val_score(RF_optimised, X_train_smote, y_train_smote, cv=5)\n",
    "# mean_cv_accuracy = cv_scores.mean()\n",
    "\n",
    "# print(f\"Optimized RF Accuracy: {accuracy_RF_optimised:.4f}\")\n",
    "# print(\n",
    "#     f\"5-Fold Cross-Validation Accuracy of Optimized Random Forest: {mean_cv_accuracy:.4f}\")"
   ]
  },
  {
   "cell_type": "code",
   "execution_count": null,
   "metadata": {
    "colab": {
     "base_uri": "https://localhost:8080/"
    },
    "id": "S_w5raLQajtP",
    "outputId": "2d14a10f-05c2-4acd-81b2-1c069396e8e4"
   },
   "outputs": [],
   "source": [
    "# gnb = GaussianNB()\n",
    "\n",
    "# gnb.fit(X_train.toarray(), y_train)\n",
    "\n",
    "# y_pred_gnb = gnb.predict(X_test.toarray())\n",
    "# y_prob_gnb = gnb.predict_proba(X_test.toarray())\n",
    "\n",
    "# accuracy_gnb = accuracy_score(y_test, y_pred_gnb)\n",
    "\n",
    "# auc_roc_gnb = roc_auc_score(y_test, y_prob_gnb, multi_class='ovr')\n",
    "\n",
    "# cv_scores = cross_val_score(gnb, X_train.toarray(), y_train, cv=5)\n",
    "# mean_cv_accuracy = cv_scores.mean()\n",
    "\n",
    "# print(f\"Naive Bayes Accuracy: {accuracy_gnb:.4f}\")\n",
    "# print(f\"Naive Bayes AUC-ROC Score: {auc_roc_gnb:.4f}\")\n",
    "# print(f\"5-Fold Cross-Validation Accuracy of Naive Bayes: {mean_cv_accuracy:.4f}\")"
   ]
  },
  {
   "cell_type": "code",
   "execution_count": null,
   "metadata": {
    "colab": {
     "base_uri": "https://localhost:8080/"
    },
    "id": "Xrpwlj2GcU97",
    "outputId": "21c98919-9fec-46cd-e197-bd9b29852732"
   },
   "outputs": [],
   "source": [
    "# dtc = DecisionTreeClassifier(random_state=42)\n",
    "\n",
    "# dtc.fit(X_train, y_train)\n",
    "\n",
    "# y_pred_dtc = dtc.predict(X_test)\n",
    "# y_prob_dtc = dtc.predict_proba(X_test)\n",
    "\n",
    "# accuracy_dtc = accuracy_score(y_test, y_pred_dtc)\n",
    "# auc_roc_dtc = roc_auc_score(y_test, y_prob_dtc, multi_class='ovr')\n",
    "\n",
    "# cv_scores = cross_val_score(dtc, X_train, y_train, cv=5)\n",
    "# mean_cv_accuracy = cv_scores.mean()\n",
    "\n",
    "# print(f\"Decision Tree Accuracy: {accuracy_dtc:.4f}\")\n",
    "# print(f\"Decision Tree AUC-ROC Score: {auc_roc_dtc:.4f}\")\n",
    "# print(\n",
    "#     f\"5-Fold Cross-Validation Accuracy of Decision Tree: {mean_cv_accuracy:.4f}\")"
   ]
  },
  {
   "cell_type": "code",
   "execution_count": null,
   "metadata": {
    "colab": {
     "base_uri": "https://localhost:8080/"
    },
    "id": "SpFqURNfcvcL",
    "outputId": "d908cef7-a940-4e37-f0ef-c6fc778d4f6c"
   },
   "outputs": [],
   "source": [
    "# perceptron = Perceptron(max_iter=1000, tol=1e-3, random_state=42)\n",
    "\n",
    "# perceptron.fit(X_train, y_train)\n",
    "\n",
    "# y_pred_perceptron = perceptron.predict(X_test)\n",
    "\n",
    "# accuracy_perceptron = accuracy_score(y_test, y_pred_perceptron)\n",
    "\n",
    "\n",
    "# cv_scores = cross_val_score(perceptron, X_train, y_train, cv=5)\n",
    "# mean_cv_accuracy = cv_scores.mean()\n",
    "\n",
    "# print(f\"Perceptron Accuracy: {accuracy_perceptron:.4f}\")\n",
    "# print(f\"5-Fold Cross-Validation Accuracy of Perceptron: {mean_cv_accuracy:.4f}\")"
   ]
  },
  {
   "cell_type": "code",
   "execution_count": null,
   "metadata": {
    "colab": {
     "base_uri": "https://localhost:8080/"
    },
    "id": "_z4jYSD7c_nz",
    "outputId": "252902ea-33dc-4f01-d724-0d305dd2a5d1"
   },
   "outputs": [],
   "source": [
    "# k = 3\n",
    "# knn = KNeighborsClassifier(n_neighbors=k)\n",
    "\n",
    "# knn.fit(X_train, y_train)\n",
    "\n",
    "# y_pred_knn = knn.predict(X_test)\n",
    "# y_prob_knn = knn.predict_proba(X_test)\n",
    "\n",
    "\n",
    "# accuracy = accuracy_score(y_test, y_pred_knn)\n",
    "# auc_roc_knn = roc_auc_score(y_test, y_prob_knn, multi_class='ovr')\n",
    "# cv_scores = cross_val_score(knn, X_train, y_train, cv=5)\n",
    "# mean_cv_accuracy = cv_scores.mean()\n",
    "# print(f\"Knn AUC-ROC Score: {auc_roc_knn:.4f}\")\n",
    "# print(f\"5-Fold Cross-Validation Accuracy of Knn: {mean_cv_accuracy:.4f}\")\n",
    "# print(f'Knn Accuracy:{accuracy :.4f}')"
   ]
  },
  {
   "cell_type": "code",
   "execution_count": null,
   "metadata": {
    "colab": {
     "base_uri": "https://localhost:8080/"
    },
    "id": "lC-ONSfLdEBB",
    "outputId": "0e0a7e2b-cbc3-4417-d01f-bba0a2ce994d"
   },
   "outputs": [],
   "source": [
    "# log_reg = LogisticRegression()\n",
    "\n",
    "# log_reg.fit(X_train, y_train)\n",
    "\n",
    "# y_pred_log = log_reg.predict(X_test)\n",
    "# y_prob_lr = log_reg.predict_proba(X_test)\n",
    "\n",
    "# accuracy = accuracy_score(y_test, y_pred_log)\n",
    "# auc_roc_lr = roc_auc_score(y_test, y_prob_lr, multi_class='ovr')\n",
    "# cv_scores = cross_val_score(log_reg, X_train, y_train, cv=5)\n",
    "# mean_cv_accuracy = cv_scores.mean()\n",
    "# print(f\"Logistic Regression AUC-ROC Score: {auc_roc_lr:.4f}\")\n",
    "# print(f'Logistic RegressionAccuracy: {accuracy :.4f}')\n",
    "# print(\n",
    "#     f\"5-Fold Cross-Validation Accuracy of Logistic Regression: {mean_cv_accuracy:.4f}\")"
   ]
  },
  {
   "cell_type": "code",
   "execution_count": null,
   "metadata": {
    "colab": {
     "base_uri": "https://localhost:8080/"
    },
    "id": "V1E9PIrvdKOs",
    "outputId": "9549cad9-0fb5-4484-916c-0e2f195783a6",
    "scrolled": true
   },
   "outputs": [],
   "source": [
    "# clf2 = DecisionTreeClassifier(random_state=42)\n",
    "# clf3 = RandomForestClassifier(n_estimators=100, random_state=42)\n",
    "# clf4 = Perceptron(max_iter=1000, tol=1e-3, random_state=42)\n",
    "# clf5 = LogisticRegression()\n",
    "# clf6 = KNeighborsClassifier(n_neighbors=3)\n",
    "# ensemble = VotingClassifier(\n",
    "#     estimators=[('dtc', clf2), ('rfc', clf3), ('per', clf4),('log_reg',clf5),('knn',clf6)],\n",
    "#     voting='hard'\n",
    "# )\n",
    "\n",
    "\n",
    "# ensemble.fit(X_train, y_train)\n",
    "\n",
    "# y_pred_ensemble = ensemble.predict(X_test)\n",
    "\n",
    "# accuracy_ensemble = accuracy_score(y_test, y_pred_ensemble)\n",
    "\n",
    "# cv_scores = cross_val_score(ensemble, X_train, y_train, cv=5)\n",
    "# mean_cv_accuracy = cv_scores.mean()\n",
    "\n",
    "\n",
    "# print(f'Ensemble Model Accuracy: {accuracy_ensemble :.4f}')\n",
    "# print(f\"5-Fold Cross-Validation Accuracy of Ensemble Model: {mean_cv_accuracy:.4f}\")"
   ]
  },
  {
   "cell_type": "code",
   "execution_count": null,
   "metadata": {},
   "outputs": [],
   "source": [
    "# mlp =  MLPClassifier(random_state=42,max_iter=500)\n",
    "# mlp.fit(X_train,y_train)\n",
    "# y_pred_mlp = mlp.predict(X_test)\n",
    "# accuracy_mlp = accuracy_score(y_test,y_pred_mlp)\n",
    "\n",
    "# cv_scores = cross_val_score(mlp,X_train,y_train,cv=10)\n",
    "# mean_cv_accuracy = cv_scores.mean()\n",
    "\n",
    "\n",
    "# print(f'MLP Classifier Accuracy: {accuracy_mlp :.4f}')\n",
    "# print(f\"5-Fold Cross-Validation Accuracy of Ensemble Model: {mean_cv_accuracy:.4f}\")"
   ]
  },
  {
   "cell_type": "code",
   "execution_count": null,
   "metadata": {},
   "outputs": [],
   "source": []
  }
 ],
 "metadata": {
  "accelerator": "GPU",
  "colab": {
   "gpuType": "T4",
   "provenance": []
  },
  "kernelspec": {
   "display_name": "Python [conda env:mlvenv]",
   "language": "python",
   "name": "conda-env-mlvenv-py"
  },
  "language_info": {
   "codemirror_mode": {
    "name": "ipython",
    "version": 3
   },
   "file_extension": ".py",
   "mimetype": "text/x-python",
   "name": "python",
   "nbconvert_exporter": "python",
   "pygments_lexer": "ipython3",
   "version": "3.11.8"
  },
  "varInspector": {
   "cols": {
    "lenName": 16,
    "lenType": 16,
    "lenVar": 40
   },
   "kernels_config": {
    "python": {
     "delete_cmd_postfix": "",
     "delete_cmd_prefix": "del ",
     "library": "var_list.py",
     "varRefreshCmd": "print(var_dic_list())"
    },
    "r": {
     "delete_cmd_postfix": ") ",
     "delete_cmd_prefix": "rm(",
     "library": "var_list.r",
     "varRefreshCmd": "cat(var_dic_list()) "
    }
   },
   "types_to_exclude": [
    "module",
    "function",
    "builtin_function_or_method",
    "instance",
    "_Feature"
   ],
   "window_display": false
  }
 },
 "nbformat": 4,
 "nbformat_minor": 1
}
